{
 "cells": [
  {
   "cell_type": "code",
   "execution_count": null,
   "id": "b9b17e15",
   "metadata": {},
   "outputs": [],
   "source": [
    "# Multivariate Regression - all five features for X & Unemployment Rate for y"
   ]
  },
  {
   "cell_type": "code",
   "execution_count": null,
   "id": "68b2f8f6",
   "metadata": {},
   "outputs": [],
   "source": [
    "%matplotlib inline\n",
    "import pandas as pd\n",
    "from pathlib import Path\n",
    "import matplotlib.pyplot as plt\n",
    "from sklearn.linear_model import LinearRegression"
   ]
  },
  {
   "cell_type": "code",
   "execution_count": null,
   "id": "73275e3a",
   "metadata": {},
   "outputs": [],
   "source": [
    "# Load CSV file as Pandas DataFrame and preview it:\n",
    "df = pd.read_csv(Path('./Resources/dataset.csv'))\n",
    "df.head()"
   ]
  },
  {
   "cell_type": "code",
   "execution_count": null,
   "id": "6e6a1314",
   "metadata": {},
   "outputs": [],
   "source": [
    "# List Independent Variables & Format to Scikit-learn Library\n",
    "X = df.['','','','','']\n",
    "X = df.X.values.reshape(-1, 5)"
   ]
  },
  {
   "cell_type": "code",
   "execution_count": null,
   "id": "f88101a4",
   "metadata": {},
   "outputs": [],
   "source": [
    "X.shape"
   ]
  },
  {
   "cell_type": "code",
   "execution_count": null,
   "id": "e37a2c78",
   "metadata": {},
   "outputs": [],
   "source": [
    "# Assign Target Variable to y\n",
    "y = df.Unemployment"
   ]
  },
  {
   "cell_type": "code",
   "execution_count": null,
   "id": "5c6942fe",
   "metadata": {},
   "outputs": [],
   "source": [
    "# Instantiate & Fit Multiple Regression Model\n",
    "model = LinearRegression()\n",
    "model.fit(X, y)"
   ]
  },
  {
   "cell_type": "code",
   "execution_count": null,
   "id": "e247b880",
   "metadata": {},
   "outputs": [],
   "source": [
    "#Predict Unemployment Rate\n",
    "y_pred = model.predict(X)\n",
    "print(y_pred.shape)"
   ]
  },
  {
   "cell_type": "code",
   "execution_count": null,
   "id": "b38f6296",
   "metadata": {},
   "outputs": [],
   "source": [
    "# Plot predictions with best fit line\n",
    "plt.scatter(X, y)\n",
    "plt.plot(X, y_pred, color='red')\n",
    "plt.show()"
   ]
  },
  {
   "cell_type": "code",
   "execution_count": 1,
   "id": "8df0ac8f",
   "metadata": {},
   "outputs": [],
   "source": [
    "# Examine Model Slope & y-intercept\n",
    "print('Slope: \\n', model.coef_)\n",
    "print('Intercept: \\n', model.intercept_)"
   ]
  },
  {
   "cell_type": "code",
   "execution_count": null,
   "id": "4d4767dd",
   "metadata": {},
   "outputs": [],
   "source": [
    "print_model = model.summary()\n",
    "print(print_model)"
   ]
  }
 ],
 "metadata": {
  "kernelspec": {
   "display_name": "mlenv",
   "language": "python",
   "name": "mlenv"
  },
  "language_info": {
   "codemirror_mode": {
    "name": "ipython",
    "version": 3
   },
   "file_extension": ".py",
   "mimetype": "text/x-python",
   "name": "python",
   "nbconvert_exporter": "python",
   "pygments_lexer": "ipython3",
   "version": "3.7.13"
  }
 },
 "nbformat": 4,
 "nbformat_minor": 5
}
