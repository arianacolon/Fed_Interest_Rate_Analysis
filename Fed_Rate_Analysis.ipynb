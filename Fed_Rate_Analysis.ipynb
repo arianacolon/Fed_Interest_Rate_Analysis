{
 "cells": [
  {
   "cell_type": "code",
   "execution_count": null,
   "id": "b9b17e15",
   "metadata": {},
   "outputs": [],
   "source": [
    "# Multivariate Regression on all four features for X & Unemployment Rate for y"
   ]
  },
  {
   "cell_type": "code",
   "execution_count": null,
   "id": "68b2f8f6",
   "metadata": {},
   "outputs": [],
   "source": [
    "%matplotlib inline\n",
    "import matplotlib.pyplot as plt\n",
    "import numpy as np\n",
    "import pandas as pd"
   ]
  },
  {
   "cell_type": "code",
   "execution_count": null,
   "id": "73275e3a",
   "metadata": {},
   "outputs": [],
   "source": [
    "from sklearn.datasets import #dataset name\n",
    "df = pd.DataFrame(data)\n",
    "\n",
    "x = df[['interest_rate','unemployment_rate']]\n",
    "y = df['index_price']"
   ]
  },
  {
   "cell_type": "code",
   "execution_count": null,
   "id": "6e6a1314",
   "metadata": {},
   "outputs": [],
   "source": [
    "# with sklearn\n",
    "regr = linear_model.LinearRegression()\n",
    "regr.fit(x, y)"
   ]
  },
  {
   "cell_type": "code",
   "execution_count": 1,
   "id": "8df0ac8f",
   "metadata": {},
   "outputs": [],
   "source": [
    "print('Intercept: \\n', regr.intercept_)\n",
    "print('Coefficients: \\n', regr.coef_)"
   ]
  },
  {
   "cell_type": "code",
   "execution_count": null,
   "id": "5250aa76",
   "metadata": {},
   "outputs": [],
   "source": [
    "# with statsmodels\n",
    "x = sm.add_constant(x) # adding a constant"
   ]
  },
  {
   "cell_type": "code",
   "execution_count": null,
   "id": "0585cf09",
   "metadata": {},
   "outputs": [],
   "source": [
    "model = sm.OLS(y, x).fit()\n",
    "predictions = model.predict(x)"
   ]
  },
  {
   "cell_type": "code",
   "execution_count": null,
   "id": "4d4767dd",
   "metadata": {},
   "outputs": [],
   "source": [
    "print_model = model.summary()\n",
    "print(print_model)"
   ]
  },
  {
   "cell_type": "markdown",
   "id": "b25f538e",
   "metadata": {},
   "source": []
  }
 ],
 "metadata": {
  "kernelspec": {
   "display_name": "mlenv",
   "language": "python",
   "name": "mlenv"
  },
  "language_info": {
   "codemirror_mode": {
    "name": "ipython",
    "version": 3
   },
   "file_extension": ".py",
   "mimetype": "text/x-python",
   "name": "python",
   "nbconvert_exporter": "python",
   "pygments_lexer": "ipython3",
   "version": "3.7.13"
  }
 },
 "nbformat": 4,
 "nbformat_minor": 5
}
